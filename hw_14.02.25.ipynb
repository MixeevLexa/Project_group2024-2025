{
 "cells": [
  {
   "cell_type": "code",
   "execution_count": null,
   "metadata": {},
   "outputs": [],
   "source": [
    "def coloring(graph, colors, i, m):\n",
    "    col_i = [colors[j] for j in graph[i]]\n",
    "    for c in range(1, max(colors)+1):\n",
    "        if c not in col_i:\n",
    "            if i == len(graph) - 1:\n",
    "                return True\n",
    "            colors[i] = c\n",
    "            if coloring(graph, colors, i + 1, m):\n",
    "                return True\n",
    "    c = max(colors)+1\n",
    "    if c > m:\n",
    "        return False\n",
    "    if i == len(graph) - 1:\n",
    "        return True\n",
    "    colors[i] = c\n",
    "    return coloring(graph, colors, i+1, m)\n",
    "\n",
    "\n",
    "v, p, m = map(int, input().split())\n",
    "graph = [[] for i in range(v)]\n",
    "for i in range(p):\n",
    "    a,b = map(int, input().split())\n",
    "    graph[a-1] += [b-1]\n",
    "    graph[b-1] += [a-1]\n",
    "colors = [0] * v\n",
    "print(coloring(graph, colors, 0, m))"
   ]
  }
 ],
 "metadata": {
  "language_info": {
   "name": "python"
  }
 },
 "nbformat": 4,
 "nbformat_minor": 2
}
