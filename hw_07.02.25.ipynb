{
 "cells": [
  {
   "cell_type": "code",
   "execution_count": 90,
   "metadata": {},
   "outputs": [],
   "source": [
    "class Cell:\n",
    "    def __init__(self, value=None):\n",
    "        self.value = value\n",
    "        self.nextcell = None\n",
    "        self.previouscell = None\n",
    "\n",
    "class TwoLinkedList:\n",
    "    def __init__(self):\n",
    "        self.head = None\n",
    "        self.end = None\n",
    "        self.length = 0\n",
    "    \n",
    "    def contains(self, x):\n",
    "        lastcell = self.head\n",
    "        while lastcell:\n",
    "            if x == lastcell.value:\n",
    "                return True\n",
    "            else:\n",
    "                lastcell = lastcell.nextcell\n",
    "        return False\n",
    "    \n",
    "    def get(self, index):\n",
    "        lastcell = self.head\n",
    "        cell_index = 0\n",
    "        while cell_index <= index:\n",
    "            if cell_index == index:\n",
    "                return lastcell.value\n",
    "            cell_index = cell_index + 1\n",
    "            lastcell = lastcell.nextcell\n",
    "\n",
    "    def len(self):\n",
    "        return self.length\n",
    "    \n",
    "    def add(self, value, index):\n",
    "        newcell = Cell(value)\n",
    "        if self.head is None:\n",
    "            self.head = newcell\n",
    "            self.end = newcell\n",
    "        if index == 0:\n",
    "            a = self.head\n",
    "            newcell.nextcell = a\n",
    "            a.previouscell = newcell\n",
    "            self.head = newcell\n",
    "            self.head.previouscell = None\n",
    "        else:\n",
    "            cell_index = 0\n",
    "            lastcell = self.head\n",
    "            while cell_index <= index:\n",
    "                if cell_index == index:\n",
    "                    if index == self.length:\n",
    "                        newcell.previouscell = self.end\n",
    "                        self.end.nextcell = newcell\n",
    "                        self.end = newcell\n",
    "                        self.end.nextcell = None\n",
    "                    else:\n",
    "                        newcell.nextcell = lastcell\n",
    "                        newcell.previouscell = lastcell.previouscell\n",
    "                        lastcell.previouscell = newcell\n",
    "                        newcell.previouscell.nextcell = newcell\n",
    "                    break\n",
    "                else:\n",
    "                    cell_index = cell_index + 1\n",
    "                    lastcell = lastcell.nextcell\n",
    "        self.length += 1\n",
    "\n",
    "    def remove(self, index):\n",
    "        if index == 0:\n",
    "            a = self.head\n",
    "            self.head = a.nextcell\n",
    "            self.head.previouscell = None\n",
    "            a = None\n",
    "        elif index == self.length - 1:\n",
    "            a = self.end\n",
    "            self.end = a.previouscell\n",
    "            self.end.nextcell = None\n",
    "            a = None\n",
    "        else:\n",
    "            cell_index = 0\n",
    "            lastcell = self.head\n",
    "            while cell_index <= index:\n",
    "                if cell_index == index:\n",
    "                    lastcell.previouscell.nextcell = lastcell.nextcell\n",
    "                    lastcell.nextcell.previouscell = lastcell.previouscell\n",
    "                    lastcell = None\n",
    "                    break\n",
    "                else:\n",
    "                    cell_index = cell_index + 1\n",
    "                    lastcell = lastcell.nextcell\n",
    "        self.length -= 1\n",
    "\n",
    "    def clear(self):\n",
    "        self.head = None\n",
    "        self.end = None\n",
    "        self.length = 0\n"
   ]
  },
  {
   "cell_type": "code",
   "execution_count": 91,
   "metadata": {},
   "outputs": [],
   "source": [
    "l = TwoLinkedList()"
   ]
  },
  {
   "cell_type": "code",
   "execution_count": 92,
   "metadata": {},
   "outputs": [
    {
     "data": {
      "text/plain": [
       "0"
      ]
     },
     "execution_count": 92,
     "metadata": {},
     "output_type": "execute_result"
    }
   ],
   "source": [
    "l.len()"
   ]
  },
  {
   "cell_type": "code",
   "execution_count": 93,
   "metadata": {},
   "outputs": [],
   "source": [
    "l.add(1,0)\n",
    "l.add(2,0)\n",
    "l.add(3,1)\n",
    "l.add(4,2)\n",
    "l.add(5,4)\n",
    "l.add(6,5)\n",
    "l.add(7,4)"
   ]
  },
  {
   "cell_type": "code",
   "execution_count": 94,
   "metadata": {},
   "outputs": [
    {
     "data": {
      "text/plain": [
       "(2, 3, 4, 1, 7, 5, 6)"
      ]
     },
     "execution_count": 94,
     "metadata": {},
     "output_type": "execute_result"
    }
   ],
   "source": [
    "l.get(0),l.get(1),l.get(2),l.get(3),l.get(4),l.get(5),l.get(6)"
   ]
  },
  {
   "cell_type": "code",
   "execution_count": 95,
   "metadata": {},
   "outputs": [],
   "source": [
    "l.remove(3)"
   ]
  },
  {
   "cell_type": "code",
   "execution_count": 96,
   "metadata": {},
   "outputs": [
    {
     "data": {
      "text/plain": [
       "(2, 3, 4, 7, 5, 6)"
      ]
     },
     "execution_count": 96,
     "metadata": {},
     "output_type": "execute_result"
    }
   ],
   "source": [
    "l.get(0),l.get(1),l.get(2),l.get(3),l.get(4),l.get(5)"
   ]
  },
  {
   "cell_type": "code",
   "execution_count": 97,
   "metadata": {},
   "outputs": [
    {
     "data": {
      "text/plain": [
       "6"
      ]
     },
     "execution_count": 97,
     "metadata": {},
     "output_type": "execute_result"
    }
   ],
   "source": [
    "l.len()"
   ]
  },
  {
   "cell_type": "code",
   "execution_count": 98,
   "metadata": {},
   "outputs": [],
   "source": [
    "l.clear()"
   ]
  },
  {
   "cell_type": "code",
   "execution_count": 99,
   "metadata": {},
   "outputs": [
    {
     "data": {
      "text/plain": [
       "0"
      ]
     },
     "execution_count": 99,
     "metadata": {},
     "output_type": "execute_result"
    }
   ],
   "source": [
    "l.len()"
   ]
  },
  {
   "cell_type": "code",
   "execution_count": null,
   "metadata": {},
   "outputs": [],
   "source": []
  }
 ],
 "metadata": {
  "kernelspec": {
   "display_name": "Python 3",
   "language": "python",
   "name": "python3"
  },
  "language_info": {
   "codemirror_mode": {
    "name": "ipython",
    "version": 3
   },
   "file_extension": ".py",
   "mimetype": "text/x-python",
   "name": "python",
   "nbconvert_exporter": "python",
   "pygments_lexer": "ipython3",
   "version": "3.12.3"
  }
 },
 "nbformat": 4,
 "nbformat_minor": 2
}
